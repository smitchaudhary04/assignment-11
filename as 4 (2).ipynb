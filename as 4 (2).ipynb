{
 "cells": [
  {
   "cell_type": "markdown",
   "id": "e0d3e3d5-c99e-4a0f-b30d-77790862c7cb",
   "metadata": {
    "tags": []
   },
   "source": [
    "#1ans comments in python begin with the # symbol and there is single line and double line comments. "
   ]
  },
  {
   "cell_type": "code",
   "execution_count": 2,
   "id": "52f9fa39-dc27-4974-92ce-4994a043e4e3",
   "metadata": {},
   "outputs": [],
   "source": [
    "#2nd ans . varieable is a symbolic name that is a refernce or pointer to abject .the assignmwnt oparator denoted by the = symbol. \n"
   ]
  },
  {
   "cell_type": "code",
   "execution_count": 3,
   "id": "ab358b0e-e84d-44ad-baa0-49d36c74a0ee",
   "metadata": {},
   "outputs": [],
   "source": [
    "#3rd ans . by the use the type name as function. "
   ]
  },
  {
   "cell_type": "code",
   "execution_count": 4,
   "id": "0867ca3e-1972-403a-812b-cf6102c1c827",
   "metadata": {},
   "outputs": [],
   "source": [
    "#4th ans. open a command line and type in the word python followed by path to your script "
   ]
  },
  {
   "cell_type": "code",
   "execution_count": 5,
   "id": "d3d98058-2745-44ab-984d-d81d3ae7cdbe",
   "metadata": {},
   "outputs": [],
   "source": [
    "my_list = [ 1,2,3,4,5] "
   ]
  },
  {
   "cell_type": "code",
   "execution_count": 7,
   "id": "1e747e24-09c7-469f-8375-19a0c5dea62a",
   "metadata": {},
   "outputs": [
    {
     "name": "stdout",
     "output_type": "stream",
     "text": [
      "[2, 3]\n"
     ]
    }
   ],
   "source": [
    "print(my_list[1:3]) "
   ]
  },
  {
   "cell_type": "code",
   "execution_count": 8,
   "id": "32ee99a2-3c8a-43f4-8e1b-923e6020b032",
   "metadata": {},
   "outputs": [],
   "source": [
    "#6th ans .(5+8j) "
   ]
  },
  {
   "cell_type": "code",
   "execution_count": 9,
   "id": "5e1a55db-aa4b-404a-a57d-832eefecfedb",
   "metadata": {},
   "outputs": [],
   "source": [
    "#7th ans . age = 25 . "
   ]
  },
  {
   "cell_type": "code",
   "execution_count": 10,
   "id": "c7820ad8-fccd-4a6c-83e5-058ddbd96193",
   "metadata": {},
   "outputs": [],
   "source": [
    "price = 9.99 "
   ]
  },
  {
   "cell_type": "code",
   "execution_count": 11,
   "id": "a18ed760-353f-4495-a5c4-b3e453ef1f30",
   "metadata": {},
   "outputs": [
    {
     "data": {
      "text/plain": [
       "float"
      ]
     },
     "execution_count": 11,
     "metadata": {},
     "output_type": "execute_result"
    }
   ],
   "source": [
    "type(price) "
   ]
  },
  {
   "cell_type": "code",
   "execution_count": 12,
   "id": "63d4cb07-d828-44a5-a1d9-0166009bd9e7",
   "metadata": {},
   "outputs": [],
   "source": [
    "name = (\"smitchaudhary\") "
   ]
  },
  {
   "cell_type": "code",
   "execution_count": 13,
   "id": "2e79a494-c8a7-474c-9b9d-f474c307d9b4",
   "metadata": {},
   "outputs": [
    {
     "name": "stdout",
     "output_type": "stream",
     "text": [
      "smitchaudhary\n"
     ]
    }
   ],
   "source": [
    "print(name) "
   ]
  },
  {
   "cell_type": "code",
   "execution_count": 62,
   "id": "a4a6cb7e-46f5-4233-9450-01ea5fb82c79",
   "metadata": {},
   "outputs": [],
   "source": [
    "names = \"hello,world!\"\n"
   ]
  }
 ],
 "metadata": {
  "kernelspec": {
   "display_name": "Python 3 (ipykernel)",
   "language": "python",
   "name": "python3"
  },
  "language_info": {
   "codemirror_mode": {
    "name": "ipython",
    "version": 3
   },
   "file_extension": ".py",
   "mimetype": "text/x-python",
   "name": "python",
   "nbconvert_exporter": "python",
   "pygments_lexer": "ipython3",
   "version": "3.10.8"
  }
 },
 "nbformat": 4,
 "nbformat_minor": 5
}
